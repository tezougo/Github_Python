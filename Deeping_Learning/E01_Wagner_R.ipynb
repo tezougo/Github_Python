{
  "nbformat": 4,
  "nbformat_minor": 0,
  "metadata": {
    "colab": {
      "name": "E01_Wagner_R.ipynb",
      "provenance": [],
      "collapsed_sections": [
        "4KY8dLZXqBCj",
        "VliFaUd_qNP6",
        "tJdTMI90swLp",
        "LDpy19WSwT77",
        "RNcomfK3kuZV",
        "W04-9Gg4ewCE",
        "Qib5pnCBBWLk",
        "9_TYPmLLBZwT",
        "-5bWPMEDBelf",
        "7k-XRHuEBiUX",
        "AjAYA0L6Bk2l"
      ]
    },
    "kernelspec": {
      "display_name": "Python 3",
      "name": "python3"
    }
  },
  "cells": [
    {
      "cell_type": "markdown",
      "metadata": {
        "id": "TTc0EFINntAg"
      },
      "source": [
        "# E01 \n",
        "# Nome: Wagner R.R."
      ]
    },
    {
      "cell_type": "markdown",
      "metadata": {
        "id": "4KY8dLZXqBCj"
      },
      "source": [
        "# Ex. **1**\n",
        "\n",
        "Importando uma função do módulo math, utilizando-a e guardando o valor em uma variável."
      ]
    },
    {
      "cell_type": "code",
      "metadata": {
        "id": "p8kXJYsEnuYr"
      },
      "source": [
        "from math import cos as cos1"
      ],
      "execution_count": 1,
      "outputs": []
    },
    {
      "cell_type": "code",
      "metadata": {
        "id": "ah1OIR-upD9M"
      },
      "source": [
        "def cosseno(valor):\n",
        "  return cos1(valor)"
      ],
      "execution_count": 2,
      "outputs": []
    },
    {
      "cell_type": "code",
      "metadata": {
        "id": "Y4QNZRjrpw9_"
      },
      "source": [
        "a = cosseno(1.5)"
      ],
      "execution_count": 5,
      "outputs": []
    },
    {
      "cell_type": "markdown",
      "metadata": {
        "id": "VliFaUd_qNP6"
      },
      "source": [
        "# Ex. **2**\n",
        "\n",
        "Importando uma função do módulo numpy, utilizando-a e guardando o valor em uma variável."
      ]
    },
    {
      "cell_type": "code",
      "metadata": {
        "id": "MQv3UP4EqUnT"
      },
      "source": [
        "from math import cos as cos1\n",
        "from numpy import cos as cos2"
      ],
      "execution_count": null,
      "outputs": []
    },
    {
      "cell_type": "code",
      "metadata": {
        "id": "3N5Mr0Z9rciX"
      },
      "source": [
        "def cosseno(valor):\n",
        "  return cos2(valor)"
      ],
      "execution_count": null,
      "outputs": []
    },
    {
      "cell_type": "code",
      "metadata": {
        "id": "OetyRHgorjbT"
      },
      "source": [
        "b = cosseno(1.5)"
      ],
      "execution_count": null,
      "outputs": []
    },
    {
      "cell_type": "markdown",
      "metadata": {
        "id": "tJdTMI90swLp"
      },
      "source": [
        "# Ex. **3**\n",
        "\n",
        "Realizando a subtração entre as variáveis contendo o valor empregado na função \"cos\", logo após o resultado é guardado em uma nova variável."
      ]
    },
    {
      "cell_type": "code",
      "metadata": {
        "id": "CBcACh9EszY7",
        "colab": {
          "base_uri": "https://localhost:8080/"
        },
        "outputId": "6b3ce4ac-5737-4ed1-f5e6-d3cc4ab29de5"
      },
      "source": [
        "c = b-a\n",
        "print(c)"
      ],
      "execution_count": null,
      "outputs": [
        {
          "output_type": "stream",
          "text": [
            "0.0\n"
          ],
          "name": "stdout"
        }
      ]
    },
    {
      "cell_type": "markdown",
      "metadata": {
        "id": "LDpy19WSwT77"
      },
      "source": [
        "# Ex. **4**\n",
        "\n",
        "Ao realizar uma multiplicação entre uma lista e um número inteiro, a lista é duplicada."
      ]
    },
    {
      "cell_type": "code",
      "metadata": {
        "colab": {
          "base_uri": "https://localhost:8080/"
        },
        "id": "hyxtexEkwrR6",
        "outputId": "f83488ca-2e07-4345-fef7-cafbde0369f2"
      },
      "source": [
        "l = (1,2,3,4,5)\n",
        "l = 2*l\n",
        "print(l)"
      ],
      "execution_count": null,
      "outputs": [
        {
          "output_type": "stream",
          "text": [
            "(1, 2, 3, 4, 5, 1, 2, 3, 4, 5)\n"
          ],
          "name": "stdout"
        }
      ]
    },
    {
      "cell_type": "markdown",
      "metadata": {
        "id": "RNcomfK3kuZV"
      },
      "source": [
        "# Ex. **5**\n",
        "\n",
        "Tive problema em resolver está questão, pois estava tentando criar a matriz e depois obter a nova matriz após a multiplicação de \"i\" por \"j\", mas com ajuda do meu grupo pude chegar a resposta.\n"
      ]
    },
    {
      "cell_type": "code",
      "metadata": {
        "id": "KdDjJs4odnS6"
      },
      "source": [
        "import numpy as np\n",
        "m1 = np.arange(1,501).reshape(100,5)\n",
        "m2 = np.arange(1,26).reshape(5,5)\n",
        "m3 = np.dot(m1,m2)"
      ],
      "execution_count": 11,
      "outputs": []
    },
    {
      "cell_type": "code",
      "metadata": {
        "id": "bdgYvRttFyGd",
        "colab": {
          "base_uri": "https://localhost:8080/"
        },
        "outputId": "2d4e722b-f744-4099-d08c-8c0aea4cff49"
      },
      "source": [
        "mr = np.arange(1,501).reshape(100,5)\n",
        "for i in range(100):\n",
        "  for j in range(5):\n",
        "    mr[i][j] = i*j\n",
        "print(mr)"
      ],
      "execution_count": 12,
      "outputs": [
        {
          "output_type": "stream",
          "text": [
            "[[  0   0   0   0   0]\n",
            " [  0   1   2   3   4]\n",
            " [  0   2   4   6   8]\n",
            " [  0   3   6   9  12]\n",
            " [  0   4   8  12  16]\n",
            " [  0   5  10  15  20]\n",
            " [  0   6  12  18  24]\n",
            " [  0   7  14  21  28]\n",
            " [  0   8  16  24  32]\n",
            " [  0   9  18  27  36]\n",
            " [  0  10  20  30  40]\n",
            " [  0  11  22  33  44]\n",
            " [  0  12  24  36  48]\n",
            " [  0  13  26  39  52]\n",
            " [  0  14  28  42  56]\n",
            " [  0  15  30  45  60]\n",
            " [  0  16  32  48  64]\n",
            " [  0  17  34  51  68]\n",
            " [  0  18  36  54  72]\n",
            " [  0  19  38  57  76]\n",
            " [  0  20  40  60  80]\n",
            " [  0  21  42  63  84]\n",
            " [  0  22  44  66  88]\n",
            " [  0  23  46  69  92]\n",
            " [  0  24  48  72  96]\n",
            " [  0  25  50  75 100]\n",
            " [  0  26  52  78 104]\n",
            " [  0  27  54  81 108]\n",
            " [  0  28  56  84 112]\n",
            " [  0  29  58  87 116]\n",
            " [  0  30  60  90 120]\n",
            " [  0  31  62  93 124]\n",
            " [  0  32  64  96 128]\n",
            " [  0  33  66  99 132]\n",
            " [  0  34  68 102 136]\n",
            " [  0  35  70 105 140]\n",
            " [  0  36  72 108 144]\n",
            " [  0  37  74 111 148]\n",
            " [  0  38  76 114 152]\n",
            " [  0  39  78 117 156]\n",
            " [  0  40  80 120 160]\n",
            " [  0  41  82 123 164]\n",
            " [  0  42  84 126 168]\n",
            " [  0  43  86 129 172]\n",
            " [  0  44  88 132 176]\n",
            " [  0  45  90 135 180]\n",
            " [  0  46  92 138 184]\n",
            " [  0  47  94 141 188]\n",
            " [  0  48  96 144 192]\n",
            " [  0  49  98 147 196]\n",
            " [  0  50 100 150 200]\n",
            " [  0  51 102 153 204]\n",
            " [  0  52 104 156 208]\n",
            " [  0  53 106 159 212]\n",
            " [  0  54 108 162 216]\n",
            " [  0  55 110 165 220]\n",
            " [  0  56 112 168 224]\n",
            " [  0  57 114 171 228]\n",
            " [  0  58 116 174 232]\n",
            " [  0  59 118 177 236]\n",
            " [  0  60 120 180 240]\n",
            " [  0  61 122 183 244]\n",
            " [  0  62 124 186 248]\n",
            " [  0  63 126 189 252]\n",
            " [  0  64 128 192 256]\n",
            " [  0  65 130 195 260]\n",
            " [  0  66 132 198 264]\n",
            " [  0  67 134 201 268]\n",
            " [  0  68 136 204 272]\n",
            " [  0  69 138 207 276]\n",
            " [  0  70 140 210 280]\n",
            " [  0  71 142 213 284]\n",
            " [  0  72 144 216 288]\n",
            " [  0  73 146 219 292]\n",
            " [  0  74 148 222 296]\n",
            " [  0  75 150 225 300]\n",
            " [  0  76 152 228 304]\n",
            " [  0  77 154 231 308]\n",
            " [  0  78 156 234 312]\n",
            " [  0  79 158 237 316]\n",
            " [  0  80 160 240 320]\n",
            " [  0  81 162 243 324]\n",
            " [  0  82 164 246 328]\n",
            " [  0  83 166 249 332]\n",
            " [  0  84 168 252 336]\n",
            " [  0  85 170 255 340]\n",
            " [  0  86 172 258 344]\n",
            " [  0  87 174 261 348]\n",
            " [  0  88 176 264 352]\n",
            " [  0  89 178 267 356]\n",
            " [  0  90 180 270 360]\n",
            " [  0  91 182 273 364]\n",
            " [  0  92 184 276 368]\n",
            " [  0  93 186 279 372]\n",
            " [  0  94 188 282 376]\n",
            " [  0  95 190 285 380]\n",
            " [  0  96 192 288 384]\n",
            " [  0  97 194 291 388]\n",
            " [  0  98 196 294 392]\n",
            " [  0  99 198 297 396]]\n"
          ],
          "name": "stdout"
        }
      ]
    },
    {
      "cell_type": "markdown",
      "metadata": {
        "id": "W04-9Gg4ewCE"
      },
      "source": [
        "# Ex. **6**\n",
        "\n",
        "Realizando a aplicação da função no intervalor de \"-5\" a \"5\", em seguida é utilizado a função \"plot\" do módulo importado matplotlib."
      ]
    },
    {
      "cell_type": "code",
      "metadata": {
        "id": "mFxabP1NexwU"
      },
      "source": [
        "import numpy as np\n",
        "from matplotlib import pyplot as plt\n",
        "x = np.linspace(-5,5,100)\n",
        "y = 1.0/(1.0+np.exp(-x))\n",
        "plt.plot(x,y)"
      ],
      "execution_count": null,
      "outputs": []
    },
    {
      "cell_type": "markdown",
      "metadata": {
        "id": "Qib5pnCBBWLk"
      },
      "source": [
        "# Ex. **7**\n",
        "\n",
        "Implementação do código das classes \"Quadrado\" e \"Triangulo\", como descrito no vídeo.\n"
      ]
    },
    {
      "cell_type": "code",
      "metadata": {
        "id": "zdiqrKKvBX5-"
      },
      "source": [
        "import numpy as np\n",
        "class Quadrado:\n",
        "  lado = 0\n",
        "  def __init__(self,l):\n",
        "    self.lado = l\n",
        "  def area(self):\n",
        "    return self.lado**2\n",
        "class Triangulo:\n",
        "  base = 0\n",
        "  altura = 0\n",
        "  def __init__(self,b,h):\n",
        "    self.base = b\n",
        "    self.altura = h\n",
        "  def area(self):\n",
        "    return self.base * self.altura / 2.0"
      ],
      "execution_count": null,
      "outputs": []
    },
    {
      "cell_type": "code",
      "metadata": {
        "id": "X1WpejsiqWHE"
      },
      "source": [
        "q1 = Quadrado(3)\n",
        "q2 = Quadrado(4)\n",
        "t1 = Triangulo(4,5)\n",
        "\n",
        "print(q1.area())\n",
        "print(q2.area())\n",
        "print(t1.area())"
      ],
      "execution_count": null,
      "outputs": []
    },
    {
      "cell_type": "markdown",
      "metadata": {
        "id": "9_TYPmLLBZwT"
      },
      "source": [
        "# Ex. **8**\n",
        "\n",
        "Implementação do código de classe para \"Circulo\", com a propriedade \"raio\" e a função \"area\"."
      ]
    },
    {
      "cell_type": "code",
      "metadata": {
        "id": "TWK6CIf9BdVI"
      },
      "source": [
        "import numpy as np\n",
        "class Quadrado:\n",
        "  lado = 0\n",
        "  def __init__(self,l):\n",
        "    self.lado = l\n",
        "  def area(self):\n",
        "    return self.lado**2\n",
        "class Triangulo:\n",
        "  base = 0\n",
        "  altura = 0\n",
        "  def __init__(self,b,h):\n",
        "    self.base = b\n",
        "    self.altura = h\n",
        "  def area(self):\n",
        "    return self.base * self.altura / 2.0\n",
        "class Circulo:\n",
        "  raio = 0\n",
        "  def __init__(self,r):\n",
        "    self.raio = r\n",
        "  def area(self):\n",
        "    return np.pi*self.raio**2"
      ],
      "execution_count": null,
      "outputs": []
    },
    {
      "cell_type": "code",
      "metadata": {
        "id": "Uy0CGshnxZu9"
      },
      "source": [
        "q1 = Quadrado(3)\n",
        "t1 = Triangulo(4,5)\n",
        "c1 = Circulo(2)\n",
        "\n",
        "print(q1.area())\n",
        "print(t1.area())\n",
        "print(c1.area())"
      ],
      "execution_count": null,
      "outputs": []
    },
    {
      "cell_type": "markdown",
      "metadata": {
        "id": "-5bWPMEDBelf"
      },
      "source": [
        "# Ex. **9**\n",
        "\n",
        "Utilizando o código anterior, foi criado uma lista com 60 objetos sendo os 20 primeiros referentes a classe \"Quadrado\", entre 20 e 39 os da classe \"Triangulo\" e do 40 ao 59 os objetos da classe \"Circulo\". Todos os objetos foram criados com suas repectivas prorpriedades, onde cada um recebeu um valor aleatório de 1 a 10."
      ]
    },
    {
      "cell_type": "code",
      "metadata": {
        "id": "BhtGSUwEBgL4"
      },
      "source": [
        "import numpy as np\n",
        "class Quadrado:\n",
        "  lado = 0\n",
        "  def __init__(self,l):\n",
        "    self.lado = l\n",
        "  def area(self):\n",
        "    return self.lado**2\n",
        "class Triangulo:\n",
        "  base = 0\n",
        "  altura = 0\n",
        "  def __init__(self,b,h):\n",
        "    self.base = b\n",
        "    self.altura = h\n",
        "  def area(self):\n",
        "    return self.base * self.altura / 2.0\n",
        "class Circulo:\n",
        "  raio = 0\n",
        "  def __init__(self,r):\n",
        "    self.raio = r\n",
        "  def area(self):\n",
        "    return np.pi*self.raio**2"
      ],
      "execution_count": 20,
      "outputs": []
    },
    {
      "cell_type": "code",
      "metadata": {
        "id": "jSh0BznIdJZ5"
      },
      "source": [
        "lista = np.zeros(60)\n",
        "for i in range(59):\n",
        "  if i < 20:\n",
        "    q = Quadrado(np.random.randint(1,10))\n",
        "    lista[i] = q.area()\n",
        "  elif i < 40:\n",
        "    t = Triangulo(np.random.randint(1,10),np.random.randint(1,10))\n",
        "    lista[i] = t.area()\n",
        "  else: \n",
        "    c = Circulo(np.random.randint(1,10))\n",
        "    lista[i] = c.area()\n",
        "#lista = lista.reshape(3,20)\n",
        "print(lista)"
      ],
      "execution_count": null,
      "outputs": []
    },
    {
      "cell_type": "markdown",
      "metadata": {
        "id": "7k-XRHuEBiUX"
      },
      "source": [
        "# Ex. **10**\n",
        "\n",
        "Foi realizado a importação do módulo random para que pude-se utilizar a função \"shuffle()\", realizando o embaralhamento da ordem dos elementos da lista."
      ]
    },
    {
      "cell_type": "code",
      "metadata": {
        "id": "T6iRGXybBj_A"
      },
      "source": [
        "import numpy as np\n",
        "class Quadrado:\n",
        "  lado = 0\n",
        "  def __init__(self,l):\n",
        "    self.lado = l\n",
        "  def area(self):\n",
        "    return self.lado**2\n",
        "class Triangulo:\n",
        "  base = 0\n",
        "  altura = 0\n",
        "  def __init__(self,b,h):\n",
        "    self.base = b\n",
        "    self.altura = h\n",
        "  def area(self):\n",
        "    return self.base * self.altura / 2.0\n",
        "class Circulo:\n",
        "  raio = 0\n",
        "  def __init__(self,r):\n",
        "    self.raio = r\n",
        "  def area(self):\n",
        "    return np.pi*self.raio**2"
      ],
      "execution_count": 129,
      "outputs": []
    },
    {
      "cell_type": "code",
      "metadata": {
        "id": "CeIQIgQAs7Ea"
      },
      "source": [
        "lista= []\n",
        "for i in range(59):\n",
        "  if i < 20:\n",
        "    lista.append(Quadrado(np.random.randint(1,10)))\n",
        "  elif i < 40:\n",
        "    lista.append(Triangulo(np.random.randint(1,10),np.random.randint(1,10)))\n",
        "  else:\n",
        "    lista.append(Circulo(np.random.randint(1,10)))\n",
        "\n",
        "print(lista)"
      ],
      "execution_count": null,
      "outputs": []
    },
    {
      "cell_type": "code",
      "metadata": {
        "id": "RJVJCCPJMWX1"
      },
      "source": [
        "import random\n",
        "random.shuffle(lista)\n",
        "resultados=[]\n",
        "for i in lista:\n",
        "  resultados.append(i.area())\n",
        "\n",
        "print(lista)\n",
        "print(resultados)\n"
      ],
      "execution_count": null,
      "outputs": []
    },
    {
      "cell_type": "markdown",
      "metadata": {
        "id": "AjAYA0L6Bk2l"
      },
      "source": [
        "# Ex. **11**\n",
        "\n",
        "Utilizando a função \"sum()\" foi somado todos os elementos da lista e mostrado na tela."
      ]
    },
    {
      "cell_type": "code",
      "metadata": {
        "id": "3nGTenAaBoZW"
      },
      "source": [
        "print(\"Soma de todas as areas e '{}'\".format(sum(resultados)))"
      ],
      "execution_count": null,
      "outputs": []
    }
  ]
}